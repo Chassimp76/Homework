{
 "cells": [
  {
   "attachments": {},
   "cell_type": "markdown",
   "metadata": {},
   "source": [
    "<span style='color:Blue'> Week 7 Homework Questions. </span> \n",
    "\n",
    "\n",
    "\n",
    "<span style='color:Green'> Some Things to Ponder. </span> \n",
    "\n",
    "1. How does the data in each of these tables relate to the others? A table relates to others by matching data in key fields with the same in the tables using a primary key.\n",
    "2. Does the word intersection mean anything in this context? Intersection allows the data from one set to join or be compared to another set.\n",
    "3. Why doesn't the Grades table have a primary key? The Grades table has a primary key to allow data to identify the iniqueness in a field, which allows the date to be retrieve during queries.\n",
    "<br>\n",
    "    i. What makes this table unique? The table is unique because it can produce many results when completing functions and queries.\n",
    "<br>\n",
    "    ii. Could / Should it have a primary key? The table should have a primary key to uniquely identify the value within a database and to allow the tables to be modified.\n",
    "\n",
    "    import pandas as pd\n",
    "    import sqlite3\n",
    "\n",
    "con = sqlite3.connect(\"\"C:\\Users\\Royal Blue Queen\\OneDrive\\Desktop\\ChastityS_Week07 Homework.sqbpro\")\n",
    "pfDB = pd.read_sql()\n",
    "pfDB\n"
   ]
  },
  {
   "cell_type": "markdown",
   "metadata": {},
   "source": []
  }
 ],
 "metadata": {
  "language_info": {
   "name": "python"
  },
  "orig_nbformat": 4
 },
 "nbformat": 4,
 "nbformat_minor": 2
}
