{
 "cells": [
  {
   "attachments": {},
   "cell_type": "markdown",
   "metadata": {},
   "source": [
    "<!-- Heading -->\n",
    "<span style='color:Green'> Python Homework. </span>\n",
    "\n",
    "<!-- OL-- >\n",
    "\n",
    "<!-- OL -->\n",
    "1. What does one need to do to use a module? <span style='color:green'> To use a module, we first need to import the respective module into our code-base by using an import statement. </span>\n",
    "2. Name a Module (not the DateTime Nodule) we looked at and write a line or 2 of code as an example using this module. <span style='color:green'> We reviewed the Math Module. </span> \n",
    "\n",
    "import math\n",
    "\n",
    "print (\"Square root ...\", math, sqrt(144))\n",
    "\n",
    "print (\"Square ...\", 12.0**2 )\n",
    "\n",
    "3. What is a benefit of using Exception handling?<span style='color:green'> A benefit of using Exception handling is having the ability to test block of code for errors. </span>\n",
    "4. NumPy arrays are like what Python data type?<span style='color:green'> !Numpy arrays are like Python Lists. </span>\n",
    "5. What is one of the main benefits of using NumPy arrays.<span style='color:green'> The benefits of Numpy are that it requires less memory, its fast and convenient. </span>\n",
    "6. What is one of the main requirements about the 'dtype' of NumPy arrays?<span style='color:green'> One of the requirements of 'dtype\" is the use of numerical data types. </span>\n",
    "7. Of the 10 uses of NumPy, name 2.<span style='color:green'> Two uses of Numpy are Arithmetic operations and Copying & viewing arrays. </span>\n",
    "8. Name one of the other libraries we'll use with NumPy?<span style='color:green'> One of the libraries we'll use is Panda. </span>\n",
    "9. What is the shape of NumPy arrays?<span style='color:green'> The shape of a Numpy array is the number of elements in each dimension and the size of the array. </span>\n",
    "10. What is a Tensor?<span style='color:green'> A tensor is an array with 3 or more dimensions. </span>\n",
    "11. Name a reason why it's better using NumPy for Data Analysis than using a Python List?<span style='color:green'> It is better to using Numpy over Python list because it containsa multidimentional array and matrix data structure(in the form of rows and columns). </span>\n",
    "12. When creating an \"empty\" array, where do the elements come from? <span style='color:green'> An empty array has 0 elements inside of it; therefore, if elements are added, they are keyed by the data analyst. </span>"
   ]
  },
  {
   "cell_type": "code",
   "execution_count": 88,
   "metadata": {},
   "outputs": [
    {
     "name": "stdout",
     "output_type": "stream",
     "text": [
      "Current Date and Time ... 2023-02-17 15:57:40.654317\n",
      "Month ... February\n",
      "Hi Willis!\n",
      "Happy Sunday!\n",
      "Hi Willis! Happy Sunday!\n"
     ]
    }
   ],
   "source": [
    "\n",
    "# 1. Use the DateTime module to get Current Date and Time, and save it to a variable. \n",
    "# Then extract just the Full month name form that variable.\n",
    "\n",
    "import datetime as dt\n",
    "a = dt.datetime.now()\n",
    "print(\"Current Date and Time ...\", a)\n",
    "print(\"Month ...\", a.strftime(\"%B\"))\n",
    "\n",
    "# 2. Write a simple function that takes 2 parameters -- a first name and a day name.\n",
    "# ○ Set a default value for the day name of Sunday.\n",
    "# ○ Have the function print out a greeting -- using the parameters -- that says something like \"Hi first-name! Happy day-name!\".Remember to use the variables in the greeting to replace first-name and day-name.   \n",
    "# ○ Invoke this function with 2 variables.\n",
    "# ○ Invoke this function with 1 variable only.\n",
    "\n",
    "def printInfo( firstname, dayname =\"Sunday\" ): \n",
    "    print(\"Hi\", firstname)\n",
    "    print(\"Happy\", dayname)\n",
    "    print(\"Hi\", firstname, \"Happy\", dayname)\n",
    "    \n",
    "printInfo(\"Willis!\", \"Sunday!\") \n",
    "\n",
    "# 3. Import NumPy, use one of the NumPy methods and create an array with a shape of ... (2, 3, 2). You can use the reshape method -- .reshape()\n",
    "import numpy as np\n",
    "aArray = np.array(\n",
    "                  [\n",
    "                  [ [1, 2] , [3, 4], [5, 6] ],\n",
    "                  [ [1, 2] , [3, 4], [5, 6] ]\n",
    "                  ] )\n",
    "\n",
    "# 4. Use NumPy .linspace() to create an array with 6 linearly spaced values between 0 and 20\n",
    "l = np.linspace(0, 20, num=6)\n",
    "\n",
    "# 5. Make a Deep Copy of the above array you created.\n",
    "import copy\n",
    "bArray = copy.deepcopy(aArray)\n",
    "\n",
    "# 6. What are 2 reasons we use NumPy arrays over Python Lists. \n",
    "#We use Numpy arrays over Python because it's faster and uses less memory."
   ]
  }
 ],
 "metadata": {
  "kernelspec": {
   "display_name": "Python 3",
   "language": "python",
   "name": "python3"
  },
  "language_info": {
   "codemirror_mode": {
    "name": "ipython",
    "version": 3
   },
   "file_extension": ".py",
   "mimetype": "text/x-python",
   "name": "python",
   "nbconvert_exporter": "python",
   "pygments_lexer": "ipython3",
   "version": "3.11.1"
  },
  "orig_nbformat": 4,
  "vscode": {
   "interpreter": {
    "hash": "3f0241051e2046fd3fd8b90bc01b9999963e69dba0fc13e4e37f20238301c547"
   }
  }
 },
 "nbformat": 4,
 "nbformat_minor": 2
}
