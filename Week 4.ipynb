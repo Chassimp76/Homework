{
 "cells": [
  {
   "cell_type": "code",
   "execution_count": 20,
   "metadata": {},
   "outputs": [],
   "source": [
    "# A function is a block of code which only runs when it its called.\n",
    "\n",
    "def function_basics(string,times):\n",
    "    \"\"\"\n",
    "        Functions print a specified string a specified number of times \n",
    "\n",
    "        The first argument is the string you want printed , the second\n",
    "        argument is the number of times you want the string printed\n",
    "\n",
    "        Parametes (both required):\n",
    "        string(str): The string has to be printed\n",
    "        times(int): the number of times the string should be printed\n",
    "\n",
    "        Returns:\n",
    "        No return value\n",
    "        \"\"\"\n",
    "    for i in range(times):\n",
    "        print(string)\n",
    "\n",
    "\n",
    "\n"
   ]
  },
  {
   "cell_type": "code",
   "execution_count": 5,
   "metadata": {},
   "outputs": [],
   "source": [
    "def length(some_list):\n",
    "\n",
    "    count = 0\n",
    "    for element in some_list:\n",
    "        count += 1\n",
    "\n",
    "    print(\"The length of the list is\", count)\n",
    "    "
   ]
  },
  {
   "cell_type": "code",
   "execution_count": 14,
   "metadata": {},
   "outputs": [
    {
     "name": "stdout",
     "output_type": "stream",
     "text": [
      "The length of the list is 5\n",
      "The length of the list is 4\n",
      "The length of the list is 6\n",
      "The length of the list is 4\n"
     ]
    }
   ],
   "source": [
    "num_list = [10, 20, 30, 40 , 50]\n",
    "length(num_list)\n",
    "\n",
    "pimp_list = [\"cookies\", \"cakes\", \"pies\", \"pudding\"]\n",
    "length(pimp_list)\n",
    "\n",
    "num_pimp = [\"Prince\", \"Michael\", \"Aaliyah\", \"Whitney\",\"Luther\",\"Gerald\"]\n",
    "length(num_pimp)\n",
    "\n",
    "num_sneakers = [\"adidas\",\"nike\", \"puma\", \"buddie\"]\n",
    "length(num_sneakers)"
   ]
  },
  {
   "cell_type": "code",
   "execution_count": 17,
   "metadata": {},
   "outputs": [],
   "source": [
    "def length(some_list):\n",
    "\n",
    "        count = 0\n",
    "        for element in some_list:\n",
    "                count += 1\n",
    "\n",
    "        print(\"The length of the list is\", count)\n",
    "        return count"
   ]
  },
  {
   "cell_type": "code",
   "execution_count": 15,
   "metadata": {},
   "outputs": [
    {
     "name": "stdout",
     "output_type": "stream",
     "text": [
      "The length of the list is 4\n"
     ]
    }
   ],
   "source": [
    "p = length ([\"5\", \"7\", \"9\", \"11\"])\n",
    "p"
   ]
  }
 ],
 "metadata": {
  "kernelspec": {
   "display_name": "Python 3",
   "language": "python",
   "name": "python3"
  },
  "language_info": {
   "codemirror_mode": {
    "name": "ipython",
    "version": 3
   },
   "file_extension": ".py",
   "mimetype": "text/x-python",
   "name": "python",
   "nbconvert_exporter": "python",
   "pygments_lexer": "ipython3",
   "version": "3.11.1"
  },
  "orig_nbformat": 4,
  "vscode": {
   "interpreter": {
    "hash": "3f0241051e2046fd3fd8b90bc01b9999963e69dba0fc13e4e37f20238301c547"
   }
  }
 },
 "nbformat": 4,
 "nbformat_minor": 2
}
