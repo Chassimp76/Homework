{
 "cells": [
  {
   "cell_type": "code",
   "execution_count": 8,
   "metadata": {},
   "outputs": [
    {
     "name": "stdout",
     "output_type": "stream",
     "text": [
      "Hello World!\n"
     ]
    }
   ],
   "source": [
    " print(\"Hello World!\")"
   ]
  },
  {
   "attachments": {},
   "cell_type": "markdown",
   "metadata": {},
   "source": [
    "<!-- Headings --> \n",
    "## <font color=green> Week 2 Homework </font>\n",
    "<!-- UL -->\n",
    "1. What kind of languager is Python considered?\n",
    "  <font color=yellow> Python is considered an Interpreted language. </font>\n",
    "2. What's a natual language?\n",
    "  <font color=yellow> Natural Languages are mostly spoken languages that form on their own. </font>\n",
    "3. What are Algorithms?\n",
    "  <font color=yellow> An algorithm is a series of steps to solve a problem at hand. </font>\n",
    "4. What is the pro gram we use to write Python in?\n",
    "  <font color=yellow> The program used to write Python in is VS IDE Code. </font>\n",
    "5. What's the file extension of a Python file?\n",
    "  <font color=yellow> The file extension of a Python file is \".ipynb\". </font>\n",
    "6. What is the area called where we put in our commands?\n",
    "  <font color=yellow> The area where commands are input is the Python Intefratd Interpreter REPL. </font>\n",
    "7. What is the #1 rule of coding/ debugging?\n",
    "  <font color=yellow> The #1 rule of coder/debugging is, Complexity is the enemy of efficiency! </font>"
   ]
  }
 ],
 "metadata": {
  "kernelspec": {
   "display_name": "Python 3",
   "language": "python",
   "name": "python3"
  },
  "language_info": {
   "codemirror_mode": {
    "name": "ipython",
    "version": 3
   },
   "file_extension": ".py",
   "mimetype": "text/x-python",
   "name": "python",
   "nbconvert_exporter": "python",
   "pygments_lexer": "ipython3",
   "version": "3.11.1"
  },
  "orig_nbformat": 4,
  "vscode": {
   "interpreter": {
    "hash": "3f0241051e2046fd3fd8b90bc01b9999963e69dba0fc13e4e37f20238301c547"
   }
  }
 },
 "nbformat": 4,
 "nbformat_minor": 2
}
