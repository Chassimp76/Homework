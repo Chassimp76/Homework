{
 "cells": [
  {
   "attachments": {},
   "cell_type": "markdown",
   "metadata": {},
   "source": [
    "## Capstone Presentation Objective\n",
    "\n",
    "1. Introduce myself, background and reason I chose the topic. \n",
    "2. Provide a description of the NPS and its purpose\n",
    "3. Review coding used in Python and data set with NPS survey scores in Excel \n",
    "4. Explain the different NPS scores: detractors, passives and promoters.\n",
    "5. Review how the NPS is calculated for determining the overall NPS in Tableau.\n",
    "6. Explain what the overall NPS scores mean.\n",
    "7. Close the presentation by thanking my audience.\n"
   ]
  }
 ],
 "metadata": {
  "language_info": {
   "name": "python"
  },
  "orig_nbformat": 4
 },
 "nbformat": 4,
 "nbformat_minor": 2
}
