{
 "cells": [
  {
   "attachments": {},
   "cell_type": "markdown",
   "metadata": {},
   "source": [
    "<!-- Header -->\n",
    "### <span style='color:Yellow'> 3.2 Homework </span>\n",
    "\n",
    "\n",
    "\n"
   ]
  },
  {
   "cell_type": "code",
   "execution_count": 102,
   "metadata": {},
   "outputs": [
    {
     "name": "stdout",
     "output_type": "stream",
     "text": [
      "Student Assessment Results\n",
      "['Julia', 'Tom', 'Kendall', 'Grade:5', 'Mathematics', 'Average Score:89', ['97, 96, 98']]\n",
      "['Julia', 'Tom', 'Kendall', 'Kelsey', 'Grade:5', 'Mathematics', 'Average Score:89', ['97, 96, 98']]\n",
      "['Julia', 'Tom', 'Anthony', 'Kendall', 'Kelsey', 'Grade:5', 'Mathematics', 'Average Score:89', ['97, 96, 98']]\n",
      "replace [1] ... ['Julia', 'Thomas', 'Anthony', 'Kendall', 'Kelsey', 'Grade:5', 'Mathematics', 'Average Score:89', ['97, 96, 98']]\n",
      "The length of a string is... 9\n",
      "['Julia', 'Thomas', 'Anthony', 'Kendall', 'Kelsey']\n",
      "copied List: ['Julia', 'Thomas', 'Anthony', 'Kendall', 'Kelsey']\n",
      "Extended firstList ... ['Julia', 'Thomas', 'Anthony', 'Kendall', 'Kelsey', 'Grade:5', 'Mathematics', 'Average Score:89', ['97, 96, 98']]\n",
      "['83.9', '95', '76', '89', '92']\n",
      "Sort1 -  ['95', '92', '89', '83.9', '76']\n",
      "thirdlist ['Julia', 'Thomas', 'Anthony', 'Kendall', 'Kelsey']\n",
      "['80', '88']\n",
      "Extended fourthlist ...  ['80', '88', '95', '92', '89', '83.9', '76', '95', '92', '89', '83.9', '76']\n"
     ]
    }
   ],
   "source": [
    "x = str(\"Student Assessment Results\" )\n",
    "print(x)\n",
    "\n",
    "Studentdata =['Julia', 'Tom', 'Kendall', 'Grade:5', 'Mathematics', 'Average Score:89', ['97, 96, 98']]\n",
    "print(Studentdata)\n",
    "\n",
    "Studentdata.insert(3, \"Kelsey\")\n",
    "print(Studentdata)\n",
    "\n",
    "Studentdata.insert(2,\"Anthony\")\n",
    "print(Studentdata)\n",
    "\n",
    "Studentdata[1] = ('Thomas')\n",
    "print(\"replace [1] ...\", Studentdata)\n",
    "\n",
    "print(\"The length of a string is...\", len(Studentdata))\n",
    "\n",
    "print(Studentdata[0:5])\n",
    "\n",
    "first_list = Studentdata[0:5]\n",
    "new_list = first_list.copy()\n",
    "print('copied List:', new_list)\n",
    "\n",
    "first_list.extend(new_list)\n",
    "print(\"Extended firstList ...\", Studentdata)\n",
    "\n",
    "simList = ['83.9','95','76','89','92']\n",
    "print(simList)\n",
    "\n",
    "simList.sort(reverse=True)\n",
    "print(\"Sort1 - \",simList )\n",
    "\n",
    "thirdlist = simList.copy()\n",
    "print('thirdlist', new_list)\n",
    "\n",
    "fourthlist = ['80', '88']\n",
    "print(fourthlist)\n",
    "\n",
    "fourthlist.extend(simList)\n",
    "fourthlist.extend(thirdlist)\n",
    "print(\"Extended fourthlist ... \", fourthlist)"
   ]
  },
  {
   "cell_type": "code",
   "execution_count": 160,
   "metadata": {},
   "outputs": [
    {
     "name": "stdout",
     "output_type": "stream",
     "text": [
      "(14, 12, 11, 7, 2)\n",
      "tup2 (14, 12, 11, 7, 2, 14, 12, 11, 7, 2, 14, 12, 11, 7, 2)\n",
      "\n",
      "tup2[12]  11\n",
      "[2, 2, 2, 7, 7, 7, 11, 11, 11, 12, 12, 12, 14, 14, 14]\n",
      "\n",
      "Tup3 packing\n",
      "red= 14 yellow= 11 blue= 7 green= 2\n",
      "single value tuple ... (45,)\n",
      "(14, 12, 11, 7, 2, 14, 12, 11, 7, 2, 14, 12, 11, 7, 2, 14, 11, 7, 2)\n"
     ]
    }
   ],
   "source": [
    "tup1 = (14, 12, 11, 7, 2,)\n",
    "print(tup1)\n",
    "\n",
    "tup2 = tup1 * 3\n",
    "print(\"tup2\", timesTuple)\n",
    "print(\"\\ntup2[12] \", tup2[12])\n",
    "print( sorted(tup2) )\n",
    "\n",
    "\n",
    "tup3 = (14, 11, 7, 2)\n",
    "(red, yellow, blue, green) = tup3\n",
    "\n",
    "print(\"\\nTup3 packing\")\n",
    "print(\"red=\", red, \"yellow=\", yellow, \"blue=\", blue, \"green=\" , green)\n",
    "\n",
    "tup4 = (45,)\n",
    "print(\"single value tuple ...\", tup4)\n",
    "\n",
    "tup5 = (tup2 + tup3)\n",
    "print(tup5)\n"
   ]
  },
  {
   "cell_type": "code",
   "execution_count": 188,
   "metadata": {},
   "outputs": [
    {
     "name": "stdout",
     "output_type": "stream",
     "text": [
      "{'pizza', 'sandwiches', 'tacos'}\n",
      "set1 {'oranges', 'bananas', 'apples', 'pizza', 'steeringwheel', 'sandwiches', 'tacos'}\n",
      "{'laminate', 'vinyl', 'carpet', 'ceramic'}\n",
      "\n",
      "United sets ...\n",
      " {'ceramic', 'oranges', 'bananas', 'laminate', 'apples', 'pizza', 'steeringwheel', 'vinyl', 'carpet', 'sandwiches', 'tacos'}\n",
      "reduced set2 ...  {'vinyl', 'carpet', 'ceramic'}\n",
      "cleared set ...  set()\n",
      "reduced set3 ...  {'ceramic', 'oranges', 'laminate', 'apples', 'pizza', 'steeringwheel', 'vinyl', 'sandwiches', 'tacos'}\n"
     ]
    }
   ],
   "source": [
    "set1 ={\"pizza\", \"tacos\", \"sandwiches\"}\n",
    "print(set1)\n",
    "\n",
    "set1.add(\"oranges\")\n",
    "set1.add(\"apples\")\n",
    "set1.add(\"bananas\")\n",
    "set1.add(\"steeringwheel\")\n",
    "print(\"set1\", set1)\n",
    "\n",
    "set2 = {\"carpet\", \"ceramic\",\"vinyl\", \"laminate\"}\n",
    "print(set2)\n",
    "\n",
    "set3 = set1.union(set2)\n",
    "print(\"\\nUnited sets ...\\n\", set3)\n",
    "\n",
    "\n",
    "set2.pop()\n",
    "\n",
    "print(\"reduced set2 ... \", set2)\n",
    "\n",
    "set1.clear()\n",
    "print(\"cleared set ... \", set1)\n",
    "\n",
    "set3.remove(\"bananas\")\n",
    "set3.discard(\"carpet\")\n",
    "\n",
    "print(\"reduced set3 ... \", set3)"
   ]
  },
  {
   "cell_type": "code",
   "execution_count": 199,
   "metadata": {},
   "outputs": [
    {
     "name": "stdout",
     "output_type": "stream",
     "text": [
      "{'r': 'Rhode Island', 's': 'South Carolina', 't': 'Texas', 'u': 'Utah', 'v': 'Virginia'}\n",
      "South Carolina ... None\n",
      "new item ... {'r': 'Rhode Island', 's': 'South Carolina', 't': 'Chastity', 'u': 'Utah', 'v': 'Virginia', 'mycolor': 'Blue'}\n",
      "new item ... {'r': 'Rhode Island', 's': 'South Carolina', 't': 'Chastity', 'u': 'Utah', 'v': 'Virginia', 'mycolor': 'Blue', 'red': 'Cardinals', 'black': 'Raiders', 'Gray': 'Cowboys'}\n",
      "dict_keys(['r', 's', 't', 'u', 'v', 'mycolor', 'red', 'black', 'Gray'])\n",
      "dict_values(['Rhode Island', 'South Carolina', 'Chastity', 'Utah', 'Virginia', 'Blue', 'Cardinals', 'Raiders', 'Cowboys'])\n",
      "Dict2 copy ... {'r': 'Rhode Island', 's': 'South Carolina', 't': 'Chastity', 'u': 'Utah', 'v': 'Virginia', 'mycolor': 'Blue', 'red': 'Cardinals', 'black': 'Raiders', 'Gray': 'Cowboys'}\n",
      "Dict2 w/o r ... {'s': 'South Carolina', 't': 'Chastity', 'u': 'Utah', 'v': 'Virginia', 'mycolor': 'Blue', 'red': 'Cardinals', 'black': 'Raiders', 'Gray': 'Cowboys'}\n",
      "empty Dict2 ... {}\n"
     ]
    }
   ],
   "source": [
    "Dict1 = {\"r\": \"Rhode Island\", \"s\": \"South Carolina\", \"t\": \"Texas\", \"u\": \"Utah\", \"v\": \"Virginia\" }\n",
    "print(Dict1)\n",
    "\n",
    "s = Dict1.get(\"South Carolina\")\n",
    "print(\"South Carolina ...\", s)\n",
    "\n",
    "Dict1.update({\"t\": \"Chastity\"})\n",
    "Dict1.update({\"mycolor\": \"Blue\"})\n",
    "print(\"new item ...\",Dict1)\n",
    "\n",
    "Dict1.update({\"red\": \"Cardinals\"})\n",
    "Dict1.update({\"black\": \"Raiders\"})\n",
    "Dict1.update({\"Gray\": \"Cowboys\"})\n",
    "print(\"new item ...\",Dict1)\n",
    "\n",
    "x = Dict1.keys()\n",
    "print(x)\n",
    "x = Dict1.values()\n",
    "print(x)\n",
    "\n",
    "Dict2 = Dict1.copy()\n",
    "print(\"Dict2 copy ...\", Dict2)\n",
    "\n",
    "Dict2.pop(\"r\")\n",
    "print(\"Dict2 w/o r ...\", Dict2)\n",
    "\n",
    "Dict2.clear()\n",
    "print(\"empty Dict2 ...\", Dict2)"
   ]
  },
  {
   "cell_type": "code",
   "execution_count": null,
   "metadata": {},
   "outputs": [],
   "source": []
  }
 ],
 "metadata": {
  "kernelspec": {
   "display_name": "Python 3",
   "language": "python",
   "name": "python3"
  },
  "language_info": {
   "codemirror_mode": {
    "name": "ipython",
    "version": 3
   },
   "file_extension": ".py",
   "mimetype": "text/x-python",
   "name": "python",
   "nbconvert_exporter": "python",
   "pygments_lexer": "ipython3",
   "version": "3.11.1"
  },
  "orig_nbformat": 4,
  "vscode": {
   "interpreter": {
    "hash": "3f0241051e2046fd3fd8b90bc01b9999963e69dba0fc13e4e37f20238301c547"
   }
  }
 },
 "nbformat": 4,
 "nbformat_minor": 2
}
