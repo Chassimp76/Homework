{
 "cells": [
  {
   "attachments": {},
   "cell_type": "markdown",
   "metadata": {},
   "source": [
    "<!-- Headings --><!-- strong--><span style='color:Green'> Python Week 5 Homework </span>\n",
    "<!-- OL-->\n",
    "1. What does Pandas stand for?<span style='color:Green'> An open-source Python package that is most widely used for data science/data analysis and machine learning tasks. </span>\n",
    "\n",
    "2. What are the 2 collections used in Pandas?<span style='color:Green'> The 2 collections used in Pandas are Series and Dataframes. </span>\n",
    "3. Name 4 things Pandas can do for us.<span style='color:Green'> The 4 things Pandas can do are:\n",
    "Data Cleansing/\tData fill,\n",
    "Data normalization/\tMerges and joins,\n",
    "Data visualization/\tStatistical analysis and\n",
    "Data inspection/\tLoading and saving data. </span>\n",
    "4. To permanently sort a DataFrame, which keyword should one use with the df.sort() method?<span style='color:Green'> The keyword that should be used with df.sort is values. </span>\n",
    "5. What is a CSV<span style='color:Green'> CSV (comma separated files) is a simple way to store big data sets in plain text and is a well know format that can be read by everyone. </span>\n",
    "6. When cleaning data what values do we not like in our data? <span style='color:Green'> When cleaning data, the values that the least like are NULLs. </span>"
   ]
  },
  {
   "cell_type": "code",
   "execution_count": 7,
   "metadata": {},
   "outputs": [
    {
     "ename": "SyntaxError",
     "evalue": "invalid syntax (2733038888.py, line 5)",
     "output_type": "error",
     "traceback": [
      "\u001b[1;36m  Cell \u001b[1;32mIn[7], line 5\u001b[1;36m\u001b[0m\n\u001b[1;33m    newArray =\u001b[0m\n\u001b[1;37m               ^\u001b[0m\n\u001b[1;31mSyntaxError\u001b[0m\u001b[1;31m:\u001b[0m invalid syntax\n"
     ]
    }
   ],
   "source": [
    "\n",
    "#1.  Concatenate these 3 arrays into a new array named 'newArray'...\n",
    "#         ([[25, 16]])\n",
    "#         ([[11, 2], [13, 4]])\n",
    "#         ([[7, 81], [5, 6], [11, 12]])\n",
    "newArray = \n",
    "#2.  Sort 'newArray' in order into 'sortedArray'\n",
    "\n",
    "#3.  Reshape the 'sortedArray' array, into a new array called 'reshapedArray', so it has 2 dimensions with a size of 2, 3.\n",
    "\n",
    "#4.  Unpack the array tuples from the above 'reshapedArray' into 4 well named variables. Print the 4 variables.\n",
    "\n",
    "#5.  Combined and sort the following arrays into one called 'comboArray' ...\n",
    "\n",
    "#     one = ([10, 11, 12, 13, 14, 15, 16, 17])\n",
    "#     two = ([20, 21, 22, 23, 24, 25, 26, 27])\n",
    "#     three = ([ 0, 1, 2, 3, 4, 5, 6, 7])\n",
    "#6.  Take 'comboArray' and perform the following slicing activities:\n",
    "# print sec1 - the 2nd element\n",
    "# print sec2 - all elements from the 3rd element to the last\n",
    "# print sec3 - all elements from the 4th to the 14th elements\n",
    "# print sec4 - the last 6 elements\n",
    "# print sec5 - all element from #0 up to and including #15, using the negative number method, i.e. taking a section from the end.\n",
    "# print sec6 - from #20 every even element to the end\n",
    "# print sec7 - from the last element moving forward, every 5th element.\n",
    "\n",
    "# 7. Using simple math operations, broadcast the addition (+), division (/), and multiplication (*) operations for these 2 arrays --\n",
    "#     ([[[ 0.0,  0.0,  0.10], [10.0, 10.30, 10.01]],\n",
    "#         [[20.0, 20.02, 20.10], [30.0, 31.0, 30.30]],\n",
    "#         [[40.40, 24.0, 40.0], [15.0, 15.5, 25.5]]])\n",
    "\n",
    "#     ([[17.0, 70.0, 10.7]])\n",
    "#8. Use the NumPy Arithmetic functions to do the subtraction of the above two arrays in pont #7.\n",
    "\n",
    "#9. Using modulo find all elements that are divisible by 3 from the multi-dimensional array under point #7 above.\n",
    "\n",
    "#10. Using Series, create a DataFrame that looks like this:\n",
    "\n",
    "# Ingredients\tQuantity\tUnit\n",
    "# Flour\t4\tcups\n",
    "# Milk\t1\tcup\n",
    "# Eggs\t2\tlarge\n",
    "# Spam\t1\tcan\n",
    "# Name: Dinner, dtype: object\n",
    "\n",
    "\n",
    "#11. Take this data and create a DataFrame named studentData\n",
    "#     {'Name': ['Jai', 'janusha', 'Gaurav', 'Anuj'],\n",
    "#         'Height': [5.1, 6.2, 5.1, 5.2],\n",
    "#         'Qualification': ['Msc', 'MA', 'Msc', 'Msc'],\n",
    "#         'address': ['Delhi', 'Doha', 'Chennai', 'Dakhar'],\n",
    "#         'Age': [21, 23, 24, 21],\n",
    "#         'Pets': ['Dog', 'Bunny', 'Chinchilla', 'Parrot'],\n",
    "#         'sport': ['Darts', 'Basketball', 'PaddleBoarding', 'Cricket']\n",
    "#     }\n",
    "\n",
    "#12. Add a new column to the DataFrame with the following deserts: [\"ice cream\", \"Cashew Fudge\", \"waffels\", \"Carrot Halwa\"]\n",
    "\n",
    "#13. Sort the 'studentData' DataFrame in Ascending order -- Sorting by column 'Name' and then \"address\"\n",
    "\n",
    "#14. Save this DataFrame here below to disc as a .CSV file with the name cows_and_goats.csv:\n",
    "\n",
    "#     df = pd.DataFrame({'Cows': [12, 20], 'Goats': [22, 19]}, index=['Year 1', 'Year 2'])\n",
    "#15. (A) Using Pandas, make your own .CSV file with data on vegetables and save it. (B) Using Pandas, make a change to your CSV file, and save a copy with a different name.\n",
    "\n"
   ]
  }
 ],
 "metadata": {
  "kernelspec": {
   "display_name": "Python 3",
   "language": "python",
   "name": "python3"
  },
  "language_info": {
   "codemirror_mode": {
    "name": "ipython",
    "version": 3
   },
   "file_extension": ".py",
   "mimetype": "text/x-python",
   "name": "python",
   "nbconvert_exporter": "python",
   "pygments_lexer": "ipython3",
   "version": "3.11.1"
  },
  "orig_nbformat": 4,
  "vscode": {
   "interpreter": {
    "hash": "3f0241051e2046fd3fd8b90bc01b9999963e69dba0fc13e4e37f20238301c547"
   }
  }
 },
 "nbformat": 4,
 "nbformat_minor": 2
}
