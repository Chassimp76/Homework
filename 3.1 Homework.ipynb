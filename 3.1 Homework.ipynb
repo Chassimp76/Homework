{
 "cells": [
  {
   "attachments": {},
   "cell_type": "markdown",
   "metadata": {},
   "source": [
    "<!-- Headings --><!-- strong-->\n",
    "# <span style='color:Blue'> 3.1 Homework </span>\n",
    "\n",
    "<!-- OL -->\n",
    "1. What is an algorithm?<span style='color:red'> An algorithm is a series of steps to solve a problem. </span> \n",
    "2. Why is Python considered to be a high-level language?<span style='color:yellow'> Python is a high-level language because it is a natural language that is easier to understand, takes less time to write and more likely to be error free when ran. </span>\n",
    "3. Is Python a Natural or a Formal language? <span style='color:red'>Python is a natural language. </span> \n",
    "4. Variable names may not start with certain characters - name two. <span style='color:yellow'> Variable names can not start with a number or special characters other than the underscore character</span> \n",
    "5. What is a Semantic error? <span style='color:red'> Semantic errors are code that is grammatically correct but doesn't make any sense and does not produce the expected results </span> \n",
    "6. What is the #1 rule of coding /debugging?<span style='color:yellow'> The #1 rule of coding/debugging is: Complexity is te enemy of efficiency </span> \n",
    "7. List 5 Python reserved words:<span style='color:red'> Five Python reserved words are: true, false, pass, none and lambda. </span> \n",
    "\n",
    "<!-- Links -->\n",
    "[What Is Python Used For? A Beginner’s Guide](https://www.coursera.org/articles/what-is-python-used-for-a-beginners-guide-to-using-python)\n"
   ]
  },
  {
   "cell_type": "code",
   "execution_count": 96,
   "metadata": {},
   "outputs": [
    {
     "name": "stdout",
     "output_type": "stream",
     "text": [
      "My name is Chastity Simpson. My favorite foods is stuffed peppers and alfredo. My dream job is to be a Business Analyst.\n",
      "['Chastity Simpson']\n",
      "('stuffed peppers', 'alfredo')\n",
      "My most favorite food is stuffed peppers.\n",
      "Deliciously stuffed peppers.\n",
      "Business Analyst\n",
      "The lendth of k is... 16\n",
      "n\n",
      "Learning Data Analytics and Python is Awesome!\n",
      "ing \n",
      "and \n",
      "Learning Data Analytics and Python is great!\n",
      "Yes, 'Python' is present.\n",
      "name age length\n",
      "{'Hi my name is Chastity Simpson. , I am 5 feet 8 inches, I am 46 years old'}\n",
      "46.0\n"
     ]
    }
   ],
   "source": [
    "\n",
    "a = 'My name is Chastity Simpson.'\n",
    "b = 'My favorite foods is stuffed peppers and alfredo.'\n",
    "c = 'My dream job is to be a Business Analyst.'\n",
    "print(a, b, c) \n",
    "\n",
    "my_name = ['Chastity Simpson']\n",
    "h = my_name\n",
    "print (h)\n",
    "\n",
    "favoritefoods = (\"stuffed peppers\", \"alfredo\")\n",
    "print (favoritefoods)\n",
    "\n",
    "j = 'stuffed peppers.' \n",
    "def myfunc1():\n",
    "    print(\"My most favorite food is \" + j)\n",
    "myfunc1()\n",
    "print(\"Deliciously\", j)\n",
    "\n",
    "\n",
    "k = str('Business Analyst')\n",
    "print(k)\n",
    "print (\"The lendth of k is...\", len(k))\n",
    "\n",
    "k = \"Business Analyst\"\n",
    "print(k[4:5])\n",
    "\n",
    "savvy = str(\"Learning Data Analytics and Python is Awesome!\")\n",
    "print(savvy)\n",
    "print(savvy[5:9])\n",
    "print(savvy[-22:-18])\n",
    "print(savvy.replace(\"Awesome\", \"great\"))\n",
    "txt = \"Learning Data Analytics and Python is Awesome!\"\n",
    "if \"Python\" in txt:\n",
    "    print(\"Yes, 'Python' is present.\")\n",
    "\n",
    "l, m, n= [\"name\", \"age\", \"length\"]\n",
    "print(l, m, n)\n",
    " \n",
    "minibio = {'Hi my name is Chastity Simpson', 'I am 5 feet 8 inches tall', 'I am 46 years old'}\n",
    "print(miniBio)\n",
    " \n",
    "m = float(46)\n",
    "print(m)"
   ]
  }
 ],
 "metadata": {
  "kernelspec": {
   "display_name": "Python 3",
   "language": "python",
   "name": "python3"
  },
  "language_info": {
   "codemirror_mode": {
    "name": "ipython",
    "version": 3
   },
   "file_extension": ".py",
   "mimetype": "text/x-python",
   "name": "python",
   "nbconvert_exporter": "python",
   "pygments_lexer": "ipython3",
   "version": "3.11.1"
  },
  "orig_nbformat": 4,
  "vscode": {
   "interpreter": {
    "hash": "3f0241051e2046fd3fd8b90bc01b9999963e69dba0fc13e4e37f20238301c547"
   }
  }
 },
 "nbformat": 4,
 "nbformat_minor": 2
}
