{
 "cells": [
  {
   "attachments": {},
   "cell_type": "markdown",
   "metadata": {},
   "source": [
    "<!-- Headings --><!-- strong-->\n",
    "# <span style='color:Blue'> 3.1 Homework </span>\n",
    "\n",
    "<!-- OL -->\n",
    "1. What is an algorithm?<span style='color:red'> An algorithm is a series of steps to solve a problem. </span> \n",
    "2. Why is Python considered to be a high-level language?<span style='color:blue'> Python is a high-level language because it is a natural language that is easier to understand, takes less time to write and more likely to be error free when ran. </span>\n",
    "3. Is Python a Natural or a Formal language? <span style='color:red'>Python is a natural language. </span> \n",
    "4. Variable names may not start with certain characters - name two. <span style='color:blue'> Variable names can not start with a number or special characters other than the underscore character</span> \n",
    "5. What is a Semantic error? <span style='color:red'> Semantic errors are code that is grammatically correct but doesn't make any sense and does not produce the expected results </span> \n",
    "6. What is the #1 rule of coding /debugging?<span style='color:blue'> The #1 rule of coding/debugging is: Complexity is te enemy of efficiency </span> \n",
    "7. List 5 Python reserved words:<span style='color:red'> Five Python reserved words are: true, false, pass, none and lambda. </span> \n",
    "\n",
    "<!-- Links -->\n",
    "[What Is Python Used For? A Beginner’s Guide](https://www.coursera.org/articles/what-is-python-used-for-a-beginners-guide-to-using-python)\n"
   ]
  },
  {
   "cell_type": "code",
   "execution_count": 6,
   "metadata": {},
   "outputs": [
    {
     "name": "stdout",
     "output_type": "stream",
     "text": [
      "16\n",
      "s\n",
      "Learning Data Analytics and Python is Awesome!\n",
      "ing Data Analytics\n",
      "Learning Data Analytics and Python is great!\n",
      "Yes, 'Python' is present.\n",
      "Brady 45 8 inches\n",
      "{'Hi my name is Brady, I am 8 inches and 45 years old today.'}\n",
      "46.0\n"
     ]
    }
   ],
   "source": [
    "#Write a multi-line comment with your name, favorite food, and dream job on 3 different lines.\n",
    "'''\n",
    "My name is Chastity Simpson.\n",
    "My favorite foods is stuffed peppers and alfredo.\n",
    "My dream job is to be a Business Analyst.\n",
    "'''\n",
    "\n",
    "# assign 5 different data types to 5 different variables. At least one datatype must be a string.\n",
    "a = 'Chastity Simpson'\n",
    "favoritefoods = (\"stuffed peppers\", \"alfredo\")\n",
    "b = 46\n",
    "c = 23.1\n",
    "e = False\n",
    "\n",
    "# print the length of your string.\n",
    "print(len(a))\n",
    "\n",
    "# print the the index value of the 4th character in your string.\n",
    "print(a[3])\n",
    "\n",
    "# create a new variable called savvy, and assign it the string with this phrase \"Learning Data Analytics and Python is Awesome!\"\n",
    "savvy = str(\"Learning Data Analytics and Python is Awesome!\")\n",
    "print(savvy)\n",
    "# return a range of characters that slices the above string from the beginning of \"ing\" up to before \"and\"\n",
    "print(savvy[5:23])\n",
    "# Replace \"Awesome\" with \"great\" in the string\n",
    "print(savvy.replace(\"Awesome\", \"great\"))\n",
    "# Test and print the savvy string to see it contains \"Python\"\n",
    "txt = \"Learning Data Analytics and Python is Awesome!\"\n",
    "if \"Python\" in txt:\n",
    "    print(\"Yes, 'Python' is present.\")\n",
    "\n",
    "# Create and assign 3 more variables called name, age and length using the multi-variable naming method.\n",
    "name, age, length = 'Brady', '45', '8 inches'\n",
    "print(name, age, length)\n",
    "\n",
    "# Format a new string called 'miniBio' using variables in curly brackets to complete this phrase... \"Hi my name is (name), I am (tall) and (so) old today.\"\n",
    "# print 'miniBio'\n",
    "minibio = {\"Hi my name is \"+ name +\", I am \"+ length + \" and \" + age + \" years old today\"}\n",
    "print(minibio)\n",
    " \n",
    "# cast and print the age variable to a float\n",
    "\n",
    "age = float(46)\n",
    "print(age)"
   ]
  }
 ],
 "metadata": {
  "kernelspec": {
   "display_name": "Python 3",
   "language": "python",
   "name": "python3"
  },
  "language_info": {
   "codemirror_mode": {
    "name": "ipython",
    "version": 3
   },
   "file_extension": ".py",
   "mimetype": "text/x-python",
   "name": "python",
   "nbconvert_exporter": "python",
   "pygments_lexer": "ipython3",
   "version": "3.11.1"
  },
  "orig_nbformat": 4,
  "vscode": {
   "interpreter": {
    "hash": "3f0241051e2046fd3fd8b90bc01b9999963e69dba0fc13e4e37f20238301c547"
   }
  }
 },
 "nbformat": 4,
 "nbformat_minor": 2
}
